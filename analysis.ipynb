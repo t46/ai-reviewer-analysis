{
 "cells": [
  {
   "cell_type": "code",
   "execution_count": 1,
   "metadata": {},
   "outputs": [
    {
     "name": "stderr",
     "output_type": "stream",
     "text": [
      "Getting V2 Notes: 100%|█████████▉| 7396/7404 [00:32<00:00, 224.40it/s]\n"
     ]
    }
   ],
   "source": [
    "import openreview\n",
    "import csv\n",
    "import sys\n",
    "\n",
    "client = openreview.api.OpenReviewClient(\n",
    "    baseurl='https://api2.openreview.net'\n",
    ")\n",
    "venue_id = 'ICLR.cc/2024/Conference'\n",
    "venue_group = client.get_group(venue_id)\n",
    "submission_name = venue_group.content['submission_name']['value']\n",
    "submissions = client.get_all_notes(invitation=f'{venue_id}/-/{submission_name}', details='replies')"
   ]
  },
  {
   "cell_type": "code",
   "execution_count": 2,
   "metadata": {},
   "outputs": [
    {
     "data": {
      "text/plain": [
       "'Official_Review'"
      ]
     },
     "execution_count": 2,
     "metadata": {},
     "output_type": "execute_result"
    }
   ],
   "source": [
    "venue_group.content['review_name']['value']"
   ]
  },
  {
   "cell_type": "code",
   "execution_count": 27,
   "metadata": {},
   "outputs": [
    {
     "data": {
      "text/plain": [
       "7404"
      ]
     },
     "execution_count": 27,
     "metadata": {},
     "output_type": "execute_result"
    }
   ],
   "source": [
    "len(submissions)"
   ]
  },
  {
   "cell_type": "code",
   "execution_count": 51,
   "metadata": {},
   "outputs": [],
   "source": [
    "review_name = venue_group.content['review_name']['value']\n",
    "\n",
    "reviews = [\n",
    "    {\n",
    "        'submission_id': s.number,\n",
    "        'summary': note.content['summary']['value'],\n",
    "        'soundness': note.content['soundness']['value'],\n",
    "        'presentation': note.content['presentation']['value'],\n",
    "        'contribution': note.content['contribution']['value'],\n",
    "        'strengths': note.content['strengths']['value'],\n",
    "        'weaknesses': note.content['weaknesses']['value'],\n",
    "        'questions': note.content['questions']['value'],\n",
    "        'flag_for_ethics_review': note.content['flag_for_ethics_review']['value'],\n",
    "        'rating': note.content['rating']['value'],\n",
    "        'confidence': note.content['confidence']['value'],\n",
    "        'code_of_conduct': note.content['code_of_conduct']['value']\n",
    "    }\n",
    "    for s in submissions\n",
    "    for reply in s.details['replies']\n",
    "    if f'{venue_id}/{submission_name}{s.number}/-/{review_name}' in reply['invitations']\n",
    "    for note in [openreview.api.Note.from_json(reply)]\n",
    "]"
   ]
  },
  {
   "cell_type": "code",
   "execution_count": 47,
   "metadata": {},
   "outputs": [
    {
     "data": {
      "text/plain": [
       "28028"
      ]
     },
     "execution_count": 47,
     "metadata": {},
     "output_type": "execute_result"
    }
   ],
   "source": [
    "len(reviews)"
   ]
  },
  {
   "cell_type": "code",
   "execution_count": 48,
   "metadata": {},
   "outputs": [
    {
     "data": {
      "text/plain": [
       "{'submission_id': 1647,\n",
       " 'review': {'summary': 'This work proposes LSTNet, a self-supervised method to establish reliable 3D dense correspondences irrespective of the input point clouds’ rotational orientation.\\n\\nSpecifically, LSTNet learns to formulate SO(3)-invariant local shape transform for each point in a dynamic, input-dependent manner. Each point-wise local shape transform can map the SO(3)-equivariant global shape descriptor of the input shape to a local shape descriptor, which is passed to the decoder to reconstruct the shape and pose of the input point cloud. \\n\\nThe proposed self-supervised training pipeline encourages semantically corresponding points from different shape instances to be mapped to similar local shape descriptors, enabling LSTNet to establish dense point-wise correspondences via nearest point pairs between cross-reconstructed point clouds.',\n",
       "  'soundness': '3 good',\n",
       "  'presentation': '2 fair',\n",
       "  'contribution': '3 good',\n",
       "  'strengths': 'The self- and cross-reconstruction training strategy is simple yet effective. \\n\\nLSTNet demonstrates state-of-the-art performance on 3D semantic matching when evaluated on the KeypointNet dataset and part segmentation label transfer when evaluated on the ShapeNet dataset.',\n",
       "  'weaknesses': 'The performance of aligned shape pairs under the setting of I/I shows that other methods, such as CPAE, are much better than LSTNet.',\n",
       "  'questions': 'The reason why other methods are much better than LSTNet under the setting of I/I should be clarified.\\n\\nLack of limitations.',\n",
       "  'flag_for_ethics_review': ['No ethics review needed.'],\n",
       "  'rating': '6: marginally above the acceptance threshold',\n",
       "  'confidence': '2: You are willing to defend your assessment, but it is quite likely that you did not understand the central parts of the submission or that you are unfamiliar with some pieces of related work. Math/other details were not carefully checked.',\n",
       "  'code_of_conduct': 'Yes'}}"
      ]
     },
     "execution_count": 48,
     "metadata": {},
     "output_type": "execute_result"
    }
   ],
   "source": [
    "reviews[0]"
   ]
  },
  {
   "cell_type": "code",
   "execution_count": 52,
   "metadata": {},
   "outputs": [
    {
     "name": "stdout",
     "output_type": "stream",
     "text": [
      "Reviews have been saved to iclr2024_reviews.csv\n"
     ]
    }
   ],
   "source": [
    "# CSVファイルに保存する部分\n",
    "csv_filename = 'iclr2024_reviews.csv'\n",
    "\n",
    "with open(csv_filename, 'w', newline='', encoding='utf-8') as csvfile:\n",
    "    fieldnames = reviews[0].keys()\n",
    "    writer = csv.DictWriter(csvfile, fieldnames=fieldnames)\n",
    "    \n",
    "    writer.writeheader()\n",
    "    for review in reviews:\n",
    "        writer.writerow(review)\n",
    "\n",
    "print(f\"Reviews have been saved to {csv_filename}\")"
   ]
  },
  {
   "cell_type": "code",
   "execution_count": 53,
   "metadata": {},
   "outputs": [
    {
     "data": {
      "text/html": [
       "<div>\n",
       "<style scoped>\n",
       "    .dataframe tbody tr th:only-of-type {\n",
       "        vertical-align: middle;\n",
       "    }\n",
       "\n",
       "    .dataframe tbody tr th {\n",
       "        vertical-align: top;\n",
       "    }\n",
       "\n",
       "    .dataframe thead th {\n",
       "        text-align: right;\n",
       "    }\n",
       "</style>\n",
       "<table border=\"1\" class=\"dataframe\">\n",
       "  <thead>\n",
       "    <tr style=\"text-align: right;\">\n",
       "      <th></th>\n",
       "      <th>submission_id</th>\n",
       "      <th>summary</th>\n",
       "      <th>soundness</th>\n",
       "      <th>presentation</th>\n",
       "      <th>contribution</th>\n",
       "      <th>strengths</th>\n",
       "      <th>weaknesses</th>\n",
       "      <th>questions</th>\n",
       "      <th>flag_for_ethics_review</th>\n",
       "      <th>rating</th>\n",
       "      <th>confidence</th>\n",
       "      <th>code_of_conduct</th>\n",
       "    </tr>\n",
       "  </thead>\n",
       "  <tbody>\n",
       "    <tr>\n",
       "      <th>0</th>\n",
       "      <td>1647</td>\n",
       "      <td>This work proposes LSTNet, a self-supervised m...</td>\n",
       "      <td>3 good</td>\n",
       "      <td>2 fair</td>\n",
       "      <td>3 good</td>\n",
       "      <td>The self- and cross-reconstruction training st...</td>\n",
       "      <td>The performance of aligned shape pairs under t...</td>\n",
       "      <td>The reason why other methods are much better t...</td>\n",
       "      <td>['No ethics review needed.']</td>\n",
       "      <td>6: marginally above the acceptance threshold</td>\n",
       "      <td>2: You are willing to defend your assessment, ...</td>\n",
       "      <td>Yes</td>\n",
       "    </tr>\n",
       "    <tr>\n",
       "      <th>1</th>\n",
       "      <td>1647</td>\n",
       "      <td>1) This paper proposes a self-supervised metho...</td>\n",
       "      <td>3 good</td>\n",
       "      <td>3 good</td>\n",
       "      <td>2 fair</td>\n",
       "      <td>1) This paper is generally well-written;\\n\\n2)...</td>\n",
       "      <td>1) The main weakness of this paper could be al...</td>\n",
       "      <td>Please refer to the weaknesses.</td>\n",
       "      <td>['No ethics review needed.']</td>\n",
       "      <td>5: marginally below the acceptance threshold</td>\n",
       "      <td>4: You are confident in your assessment, but n...</td>\n",
       "      <td>Yes</td>\n",
       "    </tr>\n",
       "    <tr>\n",
       "      <th>2</th>\n",
       "      <td>1647</td>\n",
       "      <td>This paper introduces LSTNet, which leverages ...</td>\n",
       "      <td>2 fair</td>\n",
       "      <td>2 fair</td>\n",
       "      <td>2 fair</td>\n",
       "      <td>1. The idea of cross-reconstruction for genera...</td>\n",
       "      <td>1. The novelty of this work seems insufficient...</td>\n",
       "      <td>See weaknesses.</td>\n",
       "      <td>['No ethics review needed.']</td>\n",
       "      <td>3: reject, not good enough</td>\n",
       "      <td>4: You are confident in your assessment, but n...</td>\n",
       "      <td>Yes</td>\n",
       "    </tr>\n",
       "    <tr>\n",
       "      <th>3</th>\n",
       "      <td>1647</td>\n",
       "      <td>This paper attempts to register point cloud pr...</td>\n",
       "      <td>3 good</td>\n",
       "      <td>3 good</td>\n",
       "      <td>3 good</td>\n",
       "      <td>- Valid motivation. Unlike the abused topic, v...</td>\n",
       "      <td>My major concern is with the experimental setu...</td>\n",
       "      <td>Following my points in the \"weaknesses\" sectio...</td>\n",
       "      <td>['No ethics review needed.']</td>\n",
       "      <td>5: marginally below the acceptance threshold</td>\n",
       "      <td>4: You are confident in your assessment, but n...</td>\n",
       "      <td>Yes</td>\n",
       "    </tr>\n",
       "    <tr>\n",
       "      <th>4</th>\n",
       "      <td>1647</td>\n",
       "      <td>This paper presents a method of learning dense...</td>\n",
       "      <td>3 good</td>\n",
       "      <td>3 good</td>\n",
       "      <td>2 fair</td>\n",
       "      <td>1. The paper is in general well organized and ...</td>\n",
       "      <td>1. The main issue of the proposed method lies ...</td>\n",
       "      <td>Please refer to the Weaknees part.</td>\n",
       "      <td>['No ethics review needed.']</td>\n",
       "      <td>5: marginally below the acceptance threshold</td>\n",
       "      <td>4: You are confident in your assessment, but n...</td>\n",
       "      <td>Yes</td>\n",
       "    </tr>\n",
       "  </tbody>\n",
       "</table>\n",
       "</div>"
      ],
      "text/plain": [
       "   submission_id                                            summary soundness  \\\n",
       "0           1647  This work proposes LSTNet, a self-supervised m...    3 good   \n",
       "1           1647  1) This paper proposes a self-supervised metho...    3 good   \n",
       "2           1647  This paper introduces LSTNet, which leverages ...    2 fair   \n",
       "3           1647  This paper attempts to register point cloud pr...    3 good   \n",
       "4           1647  This paper presents a method of learning dense...    3 good   \n",
       "\n",
       "  presentation contribution  \\\n",
       "0       2 fair       3 good   \n",
       "1       3 good       2 fair   \n",
       "2       2 fair       2 fair   \n",
       "3       3 good       3 good   \n",
       "4       3 good       2 fair   \n",
       "\n",
       "                                           strengths  \\\n",
       "0  The self- and cross-reconstruction training st...   \n",
       "1  1) This paper is generally well-written;\\n\\n2)...   \n",
       "2  1. The idea of cross-reconstruction for genera...   \n",
       "3  - Valid motivation. Unlike the abused topic, v...   \n",
       "4  1. The paper is in general well organized and ...   \n",
       "\n",
       "                                          weaknesses  \\\n",
       "0  The performance of aligned shape pairs under t...   \n",
       "1  1) The main weakness of this paper could be al...   \n",
       "2  1. The novelty of this work seems insufficient...   \n",
       "3  My major concern is with the experimental setu...   \n",
       "4  1. The main issue of the proposed method lies ...   \n",
       "\n",
       "                                           questions  \\\n",
       "0  The reason why other methods are much better t...   \n",
       "1                    Please refer to the weaknesses.   \n",
       "2                                    See weaknesses.   \n",
       "3  Following my points in the \"weaknesses\" sectio...   \n",
       "4                 Please refer to the Weaknees part.   \n",
       "\n",
       "         flag_for_ethics_review                                        rating  \\\n",
       "0  ['No ethics review needed.']  6: marginally above the acceptance threshold   \n",
       "1  ['No ethics review needed.']  5: marginally below the acceptance threshold   \n",
       "2  ['No ethics review needed.']                    3: reject, not good enough   \n",
       "3  ['No ethics review needed.']  5: marginally below the acceptance threshold   \n",
       "4  ['No ethics review needed.']  5: marginally below the acceptance threshold   \n",
       "\n",
       "                                          confidence code_of_conduct  \n",
       "0  2: You are willing to defend your assessment, ...             Yes  \n",
       "1  4: You are confident in your assessment, but n...             Yes  \n",
       "2  4: You are confident in your assessment, but n...             Yes  \n",
       "3  4: You are confident in your assessment, but n...             Yes  \n",
       "4  4: You are confident in your assessment, but n...             Yes  "
      ]
     },
     "execution_count": 53,
     "metadata": {},
     "output_type": "execute_result"
    }
   ],
   "source": [
    "# pandas で読み込む\n",
    "import pandas as pd\n",
    "df = pd.read_csv(csv_filename)\n",
    "df.head()"
   ]
  },
  {
   "cell_type": "code",
   "execution_count": null,
   "metadata": {},
   "outputs": [],
   "source": []
  }
 ],
 "metadata": {
  "kernelspec": {
   "display_name": ".venv",
   "language": "python",
   "name": "python3"
  },
  "language_info": {
   "codemirror_mode": {
    "name": "ipython",
    "version": 3
   },
   "file_extension": ".py",
   "mimetype": "text/x-python",
   "name": "python",
   "nbconvert_exporter": "python",
   "pygments_lexer": "ipython3",
   "version": "3.12.3"
  }
 },
 "nbformat": 4,
 "nbformat_minor": 2
}
